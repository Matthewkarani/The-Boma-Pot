{
 "cells": [
  {
   "cell_type": "markdown",
   "metadata": {},
   "source": [
    "# Recipe Recommendation System \n",
    "~ TASTY DISHES ~\n",
    "\n",
    "- Group 3\n",
    "- Group Members.\n",
    "    - Cindy Tumaini\n",
    "    - Margeret Namunyak\n",
    "    - Faith Wafula\n",
    "    - Martin Waweru\n",
    "    - Matthew Karani\n",
    "\n",
    "\n",
    "## Table Of Contents\n",
    "\n",
    "- Business Understanding\n",
    "- Data Understanding\n",
    "- Data Preparation\n",
    "- Modelling \n",
    "- Evaluation \n",
    "  "
   ]
  },
  {
   "cell_type": "markdown",
   "metadata": {},
   "source": [
    "## Business Understanding\n",
    "\n",
    "### Business Description \n",
    "Tasty Dishes is a web-based culinary platform dedicated to sharing authentic African recipes with the world. Our mission is to enhance the cooking experience of home chefs by providing them with a diverse collection of recipes rooted in African culinary traditions, while also incorporating global influences. Whether you're an experienced cook or just starting, Tasty Dishes offers a wide variety of recipes that empower users to create delicious, flavorful meals from the comfort of their homes.\n",
    "\n",
    "\n",
    "## Business Goal \n",
    "### Objective\n",
    "The main objective of this project is to develop an item-based recipe recommendation system that suggests recipes to users based on the ingredients they have available. By analyzing the ingredients present in various recipes, the system aims to provide relevant and appealing recommendations that encourage users to explore and cook diverse dishes rooted in African culinary traditions, while also incorporating global flavors.\n",
    "\n",
    "### Scope\n",
    "\n",
    "1. Ingredient-Based Recommendations: Develop an algorithm that analyzes user-provided ingredients to recommend recipes based on ingredient similarity, leveraging a diverse dataset that includes recipe_Title, Ingredients, and Instructions for authentic African and global dishes.\n",
    "\n",
    "2. User-Friendly Interface: Design an intuitive web interface that enables users to input their available ingredients and view tailored recipe recommendations, along with detailed cooking instructions and a feedback mechanism to enhance recommendation accuracy.\n",
    "\n",
    "\n",
    "### Success Criteria\n",
    "1. Accuracy:\n",
    "Achieve at least 80% accuracy in recommending relevant recipes based on user-provided ingredients.\n",
    "\n",
    "2. Precision:\n",
    "Ensure that at least 75% of recommended recipes correspond to the user’s input ingredients.\n",
    "\n",
    "3. Recall:\n",
    "Aim for a recall rate of at least 70%, indicating the system identifies a significant portion of relevant recipes.\n",
    "\n",
    "4. F1 Score:\n",
    "Target an F1 score of 0.75 or higher, balancing precision and recall for comprehensive recommendations.\n",
    "\n",
    "\n",
    "\n",
    "\n"
   ]
  },
  {
   "cell_type": "markdown",
   "metadata": {},
   "source": [
    "## Data Understanding\n",
    "\n",
    "### Data Source:\n",
    "\n",
    "\n"
   ]
  },
  {
   "cell_type": "code",
   "execution_count": 100,
   "metadata": {},
   "outputs": [],
   "source": [
    "# Necessary Imports\n",
    "import pandas as pd"
   ]
  },
  {
   "cell_type": "markdown",
   "metadata": {},
   "source": [
    "### Data Frame One"
   ]
  },
  {
   "cell_type": "code",
   "execution_count": 101,
   "metadata": {},
   "outputs": [
    {
     "data": {
      "text/html": [
       "<div>\n",
       "<style scoped>\n",
       "    .dataframe tbody tr th:only-of-type {\n",
       "        vertical-align: middle;\n",
       "    }\n",
       "\n",
       "    .dataframe tbody tr th {\n",
       "        vertical-align: top;\n",
       "    }\n",
       "\n",
       "    .dataframe thead th {\n",
       "        text-align: right;\n",
       "    }\n",
       "</style>\n",
       "<table border=\"1\" class=\"dataframe\">\n",
       "  <thead>\n",
       "    <tr style=\"text-align: right;\">\n",
       "      <th></th>\n",
       "      <th>Title</th>\n",
       "      <th>Ingredients</th>\n",
       "      <th>Instructions</th>\n",
       "      <th>Image_Name</th>\n",
       "      <th>Cleaned_Ingredients</th>\n",
       "    </tr>\n",
       "  </thead>\n",
       "  <tbody>\n",
       "    <tr>\n",
       "      <th>0</th>\n",
       "      <td>Miso-Butter Roast Chicken With Acorn Squash Pa...</td>\n",
       "      <td>['1 (3½–4-lb.) whole chicken', '2¾ tsp. kosher...</td>\n",
       "      <td>Pat chicken dry with paper towels, season all ...</td>\n",
       "      <td>miso-butter-roast-chicken-acorn-squash-panzanella</td>\n",
       "      <td>['1 (3½–4-lb.) whole chicken', '2¾ tsp. kosher...</td>\n",
       "    </tr>\n",
       "    <tr>\n",
       "      <th>1</th>\n",
       "      <td>Crispy Salt and Pepper Potatoes</td>\n",
       "      <td>['2 large egg whites', '1 pound new potatoes (...</td>\n",
       "      <td>Preheat oven to 400°F and line a rimmed baking...</td>\n",
       "      <td>crispy-salt-and-pepper-potatoes-dan-kluger</td>\n",
       "      <td>['2 large egg whites', '1 pound new potatoes (...</td>\n",
       "    </tr>\n",
       "    <tr>\n",
       "      <th>2</th>\n",
       "      <td>Thanksgiving Mac and Cheese</td>\n",
       "      <td>['1 cup evaporated milk', '1 cup whole milk', ...</td>\n",
       "      <td>Place a rack in middle of oven; preheat to 400...</td>\n",
       "      <td>thanksgiving-mac-and-cheese-erick-williams</td>\n",
       "      <td>['1 cup evaporated milk', '1 cup whole milk', ...</td>\n",
       "    </tr>\n",
       "    <tr>\n",
       "      <th>3</th>\n",
       "      <td>Italian Sausage and Bread Stuffing</td>\n",
       "      <td>['1 (¾- to 1-pound) round Italian loaf, cut in...</td>\n",
       "      <td>Preheat oven to 350°F with rack in middle. Gen...</td>\n",
       "      <td>italian-sausage-and-bread-stuffing-240559</td>\n",
       "      <td>['1 (¾- to 1-pound) round Italian loaf, cut in...</td>\n",
       "    </tr>\n",
       "    <tr>\n",
       "      <th>4</th>\n",
       "      <td>Newton's Law</td>\n",
       "      <td>['1 teaspoon dark brown sugar', '1 teaspoon ho...</td>\n",
       "      <td>Stir together brown sugar and hot water in a c...</td>\n",
       "      <td>newtons-law-apple-bourbon-cocktail</td>\n",
       "      <td>['1 teaspoon dark brown sugar', '1 teaspoon ho...</td>\n",
       "    </tr>\n",
       "    <tr>\n",
       "      <th>5</th>\n",
       "      <td>Warm Comfort</td>\n",
       "      <td>['2 chamomile tea bags', '1½ oz. reposado tequ...</td>\n",
       "      <td>Place 2 chamomile tea bags in a heatsafe vesse...</td>\n",
       "      <td>warm-comfort-tequila-chamomile-toddy</td>\n",
       "      <td>['2 chamomile tea bags', '1½ oz. reposado tequ...</td>\n",
       "    </tr>\n",
       "    <tr>\n",
       "      <th>6</th>\n",
       "      <td>Apples and Oranges</td>\n",
       "      <td>['3 oz. Grand Marnier', '1 oz. Amaro Averna', ...</td>\n",
       "      <td>Add 3 oz. Grand Marnier, 1 oz. Amaro Averna, a...</td>\n",
       "      <td>apples-and-oranges-spiked-cider</td>\n",
       "      <td>['3 oz. Grand Marnier', '1 oz. Amaro Averna', ...</td>\n",
       "    </tr>\n",
       "    <tr>\n",
       "      <th>7</th>\n",
       "      <td>Turmeric Hot Toddy</td>\n",
       "      <td>['¼ cup granulated sugar', '¾ tsp. ground turm...</td>\n",
       "      <td>For the turmeric syrup, combine ½ cup hot wate...</td>\n",
       "      <td>turmeric-hot-toddy-claire-sprouse</td>\n",
       "      <td>['¼ cup granulated sugar', '¾ tsp. ground turm...</td>\n",
       "    </tr>\n",
       "    <tr>\n",
       "      <th>8</th>\n",
       "      <td>Instant Pot Lamb Haleem</td>\n",
       "      <td>['¾ cup assorted dals (such as chana dal, moon...</td>\n",
       "      <td>Combine dals, rice, and barley in a medium bow...</td>\n",
       "      <td>instant-pot-lamb-haleem</td>\n",
       "      <td>['¾ cup assorted dals (such as chana dal, moon...</td>\n",
       "    </tr>\n",
       "    <tr>\n",
       "      <th>9</th>\n",
       "      <td>Spiced Lentil and Caramelized Onion Baked Eggs</td>\n",
       "      <td>['1 (14.5-ounce) can basic lentil soup, like A...</td>\n",
       "      <td>Place an oven rack in the center of the oven, ...</td>\n",
       "      <td>spiced-lentil-and-caramelized-onion-baked-eggs</td>\n",
       "      <td>['1 (14.5-ounce) can basic lentil soup, like A...</td>\n",
       "    </tr>\n",
       "  </tbody>\n",
       "</table>\n",
       "</div>"
      ],
      "text/plain": [
       "                                               Title  \\\n",
       "0  Miso-Butter Roast Chicken With Acorn Squash Pa...   \n",
       "1                    Crispy Salt and Pepper Potatoes   \n",
       "2                        Thanksgiving Mac and Cheese   \n",
       "3                 Italian Sausage and Bread Stuffing   \n",
       "4                                       Newton's Law   \n",
       "5                                       Warm Comfort   \n",
       "6                                 Apples and Oranges   \n",
       "7                                 Turmeric Hot Toddy   \n",
       "8                            Instant Pot Lamb Haleem   \n",
       "9     Spiced Lentil and Caramelized Onion Baked Eggs   \n",
       "\n",
       "                                         Ingredients  \\\n",
       "0  ['1 (3½–4-lb.) whole chicken', '2¾ tsp. kosher...   \n",
       "1  ['2 large egg whites', '1 pound new potatoes (...   \n",
       "2  ['1 cup evaporated milk', '1 cup whole milk', ...   \n",
       "3  ['1 (¾- to 1-pound) round Italian loaf, cut in...   \n",
       "4  ['1 teaspoon dark brown sugar', '1 teaspoon ho...   \n",
       "5  ['2 chamomile tea bags', '1½ oz. reposado tequ...   \n",
       "6  ['3 oz. Grand Marnier', '1 oz. Amaro Averna', ...   \n",
       "7  ['¼ cup granulated sugar', '¾ tsp. ground turm...   \n",
       "8  ['¾ cup assorted dals (such as chana dal, moon...   \n",
       "9  ['1 (14.5-ounce) can basic lentil soup, like A...   \n",
       "\n",
       "                                        Instructions  \\\n",
       "0  Pat chicken dry with paper towels, season all ...   \n",
       "1  Preheat oven to 400°F and line a rimmed baking...   \n",
       "2  Place a rack in middle of oven; preheat to 400...   \n",
       "3  Preheat oven to 350°F with rack in middle. Gen...   \n",
       "4  Stir together brown sugar and hot water in a c...   \n",
       "5  Place 2 chamomile tea bags in a heatsafe vesse...   \n",
       "6  Add 3 oz. Grand Marnier, 1 oz. Amaro Averna, a...   \n",
       "7  For the turmeric syrup, combine ½ cup hot wate...   \n",
       "8  Combine dals, rice, and barley in a medium bow...   \n",
       "9  Place an oven rack in the center of the oven, ...   \n",
       "\n",
       "                                          Image_Name  \\\n",
       "0  miso-butter-roast-chicken-acorn-squash-panzanella   \n",
       "1         crispy-salt-and-pepper-potatoes-dan-kluger   \n",
       "2         thanksgiving-mac-and-cheese-erick-williams   \n",
       "3          italian-sausage-and-bread-stuffing-240559   \n",
       "4                 newtons-law-apple-bourbon-cocktail   \n",
       "5               warm-comfort-tequila-chamomile-toddy   \n",
       "6                    apples-and-oranges-spiked-cider   \n",
       "7                  turmeric-hot-toddy-claire-sprouse   \n",
       "8                            instant-pot-lamb-haleem   \n",
       "9     spiced-lentil-and-caramelized-onion-baked-eggs   \n",
       "\n",
       "                                 Cleaned_Ingredients  \n",
       "0  ['1 (3½–4-lb.) whole chicken', '2¾ tsp. kosher...  \n",
       "1  ['2 large egg whites', '1 pound new potatoes (...  \n",
       "2  ['1 cup evaporated milk', '1 cup whole milk', ...  \n",
       "3  ['1 (¾- to 1-pound) round Italian loaf, cut in...  \n",
       "4  ['1 teaspoon dark brown sugar', '1 teaspoon ho...  \n",
       "5  ['2 chamomile tea bags', '1½ oz. reposado tequ...  \n",
       "6  ['3 oz. Grand Marnier', '1 oz. Amaro Averna', ...  \n",
       "7  ['¼ cup granulated sugar', '¾ tsp. ground turm...  \n",
       "8  ['¾ cup assorted dals (such as chana dal, moon...  \n",
       "9  ['1 (14.5-ounce) can basic lentil soup, like A...  "
      ]
     },
     "metadata": {},
     "output_type": "display_data"
    },
    {
     "name": "stdout",
     "output_type": "stream",
     "text": [
      "(13501, 5)\n"
     ]
    }
   ],
   "source": [
    "# Load the dataframe\n",
    "\n",
    "df = pd.read_csv(\"Food Ingredients and Recipe Dataset with Image Name Mapping.csv\", index_col=0)\n",
    "\n",
    "\n",
    "# Display the first columns\n",
    "display(df.head(10))\n",
    "\n",
    "#show the shape\n",
    "print(df.shape)"
   ]
  },
  {
   "cell_type": "markdown",
   "metadata": {},
   "source": [
    "- Check for duplicates\n"
   ]
  },
  {
   "cell_type": "code",
   "execution_count": 102,
   "metadata": {},
   "outputs": [
    {
     "name": "stdout",
     "output_type": "stream",
     "text": [
      "Number of duplicates: 0\n"
     ]
    }
   ],
   "source": [
    "print(f'Number of duplicates: {df.duplicated().sum()}')"
   ]
  },
  {
   "cell_type": "code",
   "execution_count": 103,
   "metadata": {},
   "outputs": [
    {
     "name": "stdout",
     "output_type": "stream",
     "text": [
      "Number of duplicates after dropping: 0\n"
     ]
    }
   ],
   "source": [
    "#drop duplicates\n",
    "df.drop_duplicates(inplace=True)\n",
    "print(f'Number of duplicates after dropping: {df.duplicated().sum()}')"
   ]
  },
  {
   "cell_type": "markdown",
   "metadata": {},
   "source": [
    "- Check for missing values"
   ]
  },
  {
   "cell_type": "code",
   "execution_count": 104,
   "metadata": {},
   "outputs": [
    {
     "data": {
      "text/plain": [
       "Instructions           8\n",
       "Title                  5\n",
       "Ingredients            0\n",
       "Image_Name             0\n",
       "Cleaned_Ingredients    0\n",
       "dtype: int64"
      ]
     },
     "execution_count": 104,
     "metadata": {},
     "output_type": "execute_result"
    }
   ],
   "source": [
    "df.isnull().sum().sort_values(ascending=False)"
   ]
  },
  {
   "cell_type": "code",
   "execution_count": 105,
   "metadata": {},
   "outputs": [
    {
     "name": "stdout",
     "output_type": "stream",
     "text": [
      "Number of missing values after dropping: 0\n"
     ]
    }
   ],
   "source": [
    "#drop rows with missing values\n",
    "df.dropna(inplace=True)\n",
    "print(f'Number of missing values after dropping: {df.isnull().sum().sum()}')"
   ]
  },
  {
   "cell_type": "markdown",
   "metadata": {},
   "source": [
    "- There is the Ingredients and Cleaned Ingredients column, check if there is any difference between the two."
   ]
  },
  {
   "cell_type": "code",
   "execution_count": 106,
   "metadata": {},
   "outputs": [
    {
     "data": {
      "text/plain": [
       "\"['2 chamomile tea bags', '1½ oz. reposado tequila', '¾ oz. fresh lemon juice', '1 Tbsp. agave nectar']\""
      ]
     },
     "execution_count": 106,
     "metadata": {},
     "output_type": "execute_result"
    }
   ],
   "source": [
    "df['Ingredients'][5]"
   ]
  },
  {
   "cell_type": "code",
   "execution_count": 107,
   "metadata": {},
   "outputs": [
    {
     "data": {
      "text/plain": [
       "\"['2 chamomile tea bags', '1½ oz. reposado tequila', '¾ oz. fresh lemon juice', '1 Tbsp. agave nectar']\""
      ]
     },
     "execution_count": 107,
     "metadata": {},
     "output_type": "execute_result"
    }
   ],
   "source": [
    "df['Cleaned_Ingredients'][5]"
   ]
  },
  {
   "cell_type": "markdown",
   "metadata": {},
   "source": [
    "- There's no significant difference between Ingredients and cleaned Ingredients. Thus, we drop the Ingredients column and rename cleaned_ingredients  ingredients."
   ]
  },
  {
   "cell_type": "code",
   "execution_count": 108,
   "metadata": {},
   "outputs": [],
   "source": [
    "#move the cleaned_ingredients column to the second column\n",
    "df = df[['Title', 'Cleaned_Ingredients', 'Ingredients', 'Instructions', 'Image_Name']]\n",
    "\n",
    "#drop the ingredients column\n",
    "df = df.drop(columns=['Ingredients','Image_Name'])\n"
   ]
  },
  {
   "cell_type": "code",
   "execution_count": 109,
   "metadata": {},
   "outputs": [
    {
     "data": {
      "text/html": [
       "<div>\n",
       "<style scoped>\n",
       "    .dataframe tbody tr th:only-of-type {\n",
       "        vertical-align: middle;\n",
       "    }\n",
       "\n",
       "    .dataframe tbody tr th {\n",
       "        vertical-align: top;\n",
       "    }\n",
       "\n",
       "    .dataframe thead th {\n",
       "        text-align: right;\n",
       "    }\n",
       "</style>\n",
       "<table border=\"1\" class=\"dataframe\">\n",
       "  <thead>\n",
       "    <tr style=\"text-align: right;\">\n",
       "      <th></th>\n",
       "      <th>Title</th>\n",
       "      <th>Ingredients</th>\n",
       "      <th>Instructions</th>\n",
       "    </tr>\n",
       "  </thead>\n",
       "  <tbody>\n",
       "    <tr>\n",
       "      <th>0</th>\n",
       "      <td>Miso-Butter Roast Chicken With Acorn Squash Pa...</td>\n",
       "      <td>['1 (3½–4-lb.) whole chicken', '2¾ tsp. kosher...</td>\n",
       "      <td>Pat chicken dry with paper towels, season all ...</td>\n",
       "    </tr>\n",
       "    <tr>\n",
       "      <th>1</th>\n",
       "      <td>Crispy Salt and Pepper Potatoes</td>\n",
       "      <td>['2 large egg whites', '1 pound new potatoes (...</td>\n",
       "      <td>Preheat oven to 400°F and line a rimmed baking...</td>\n",
       "    </tr>\n",
       "    <tr>\n",
       "      <th>2</th>\n",
       "      <td>Thanksgiving Mac and Cheese</td>\n",
       "      <td>['1 cup evaporated milk', '1 cup whole milk', ...</td>\n",
       "      <td>Place a rack in middle of oven; preheat to 400...</td>\n",
       "    </tr>\n",
       "    <tr>\n",
       "      <th>3</th>\n",
       "      <td>Italian Sausage and Bread Stuffing</td>\n",
       "      <td>['1 (¾- to 1-pound) round Italian loaf, cut in...</td>\n",
       "      <td>Preheat oven to 350°F with rack in middle. Gen...</td>\n",
       "    </tr>\n",
       "    <tr>\n",
       "      <th>4</th>\n",
       "      <td>Newton's Law</td>\n",
       "      <td>['1 teaspoon dark brown sugar', '1 teaspoon ho...</td>\n",
       "      <td>Stir together brown sugar and hot water in a c...</td>\n",
       "    </tr>\n",
       "  </tbody>\n",
       "</table>\n",
       "</div>"
      ],
      "text/plain": [
       "                                               Title  \\\n",
       "0  Miso-Butter Roast Chicken With Acorn Squash Pa...   \n",
       "1                    Crispy Salt and Pepper Potatoes   \n",
       "2                        Thanksgiving Mac and Cheese   \n",
       "3                 Italian Sausage and Bread Stuffing   \n",
       "4                                       Newton's Law   \n",
       "\n",
       "                                         Ingredients  \\\n",
       "0  ['1 (3½–4-lb.) whole chicken', '2¾ tsp. kosher...   \n",
       "1  ['2 large egg whites', '1 pound new potatoes (...   \n",
       "2  ['1 cup evaporated milk', '1 cup whole milk', ...   \n",
       "3  ['1 (¾- to 1-pound) round Italian loaf, cut in...   \n",
       "4  ['1 teaspoon dark brown sugar', '1 teaspoon ho...   \n",
       "\n",
       "                                        Instructions  \n",
       "0  Pat chicken dry with paper towels, season all ...  \n",
       "1  Preheat oven to 400°F and line a rimmed baking...  \n",
       "2  Place a rack in middle of oven; preheat to 400...  \n",
       "3  Preheat oven to 350°F with rack in middle. Gen...  \n",
       "4  Stir together brown sugar and hot water in a c...  "
      ]
     },
     "execution_count": 109,
     "metadata": {},
     "output_type": "execute_result"
    }
   ],
   "source": [
    "# rename the cleaned ingredients column\n",
    "df = df.rename(columns={'Cleaned_Ingredients':'Ingredients'})\n",
    "df.head()\n"
   ]
  },
  {
   "cell_type": "code",
   "execution_count": 110,
   "metadata": {},
   "outputs": [
    {
     "data": {
      "text/plain": [
       "\"['2 chamomile tea bags', '1½ oz. reposado tequila', '¾ oz. fresh lemon juice', '1 Tbsp. agave nectar']\""
      ]
     },
     "execution_count": 110,
     "metadata": {},
     "output_type": "execute_result"
    }
   ],
   "source": [
    "df['Ingredients'][5]"
   ]
  },
  {
   "cell_type": "markdown",
   "metadata": {},
   "source": [
    "### DataFrame two "
   ]
  },
  {
   "cell_type": "code",
   "execution_count": 111,
   "metadata": {},
   "outputs": [
    {
     "data": {
      "text/html": [
       "<div>\n",
       "<style scoped>\n",
       "    .dataframe tbody tr th:only-of-type {\n",
       "        vertical-align: middle;\n",
       "    }\n",
       "\n",
       "    .dataframe tbody tr th {\n",
       "        vertical-align: top;\n",
       "    }\n",
       "\n",
       "    .dataframe thead th {\n",
       "        text-align: right;\n",
       "    }\n",
       "</style>\n",
       "<table border=\"1\" class=\"dataframe\">\n",
       "  <thead>\n",
       "    <tr style=\"text-align: right;\">\n",
       "      <th></th>\n",
       "      <th>title</th>\n",
       "      <th>index</th>\n",
       "      <th>page</th>\n",
       "      <th>about</th>\n",
       "      <th>ingridients</th>\n",
       "      <th>preparation</th>\n",
       "      <th>nutrition per 100g of recipe</th>\n",
       "      <th>energy(kcal)</th>\n",
       "      <th>fat(g)</th>\n",
       "      <th>carbohydrates(g)</th>\n",
       "      <th>proteins(g)</th>\n",
       "      <th>fibre(g)</th>\n",
       "      <th>vitamin A(mcg)</th>\n",
       "      <th>iron(mg)</th>\n",
       "      <th>zinc(mg)</th>\n",
       "      <th>F_factor_est</th>\n",
       "    </tr>\n",
       "  </thead>\n",
       "  <tbody>\n",
       "    <tr>\n",
       "      <th>0</th>\n",
       "      <td>Kaimati(Fried Dumplings)</td>\n",
       "      <td>15003</td>\n",
       "      <td>24</td>\n",
       "      <td>Kaimatis get their unique flavour from the sty...</td>\n",
       "      <td>wheat flour, refined\\nwater, vanilla essence,...</td>\n",
       "      <td>Put yeast in a small container.\\n Add 50ml of...</td>\n",
       "      <td>Energy 1,795 kJ/ 429 kcal | Fat 21.8 g | Carbo...</td>\n",
       "      <td>429.0</td>\n",
       "      <td>21.8</td>\n",
       "      <td>52.8</td>\n",
       "      <td>4.6</td>\n",
       "      <td>1.6</td>\n",
       "      <td>30</td>\n",
       "      <td>2.1</td>\n",
       "      <td>0.45</td>\n",
       "      <td>0.4</td>\n",
       "    </tr>\n",
       "    <tr>\n",
       "      <th>1</th>\n",
       "      <td>Mahamri\\n(Swahili Doughnut)</td>\n",
       "      <td>15004</td>\n",
       "      <td>26</td>\n",
       "      <td>This is a typical traditional recipe among the...</td>\n",
       "      <td>wheat flour,\\ncoconut milk\\nwhite sugar\\ndry y...</td>\n",
       "      <td>Break the coconut shell, drain the water and...</td>\n",
       "      <td>Energy 1,728 kJ/ 413 kcal | Fat 22.1 g | Carbo...</td>\n",
       "      <td>413.0</td>\n",
       "      <td>22.1</td>\n",
       "      <td>46.6</td>\n",
       "      <td>6.0</td>\n",
       "      <td>2.1</td>\n",
       "      <td>41</td>\n",
       "      <td>2.8</td>\n",
       "      <td>0.56</td>\n",
       "      <td>0.4</td>\n",
       "    </tr>\n",
       "    <tr>\n",
       "      <th>2</th>\n",
       "      <td>Enriched Mandazi \\n(East African Doughnuts, En...</td>\n",
       "      <td>15124</td>\n",
       "      <td>28</td>\n",
       "      <td>A popular snack among urban dwellers across th...</td>\n",
       "      <td>self-raising wheat flour\\neggs\\nmargarine\\nRin...</td>\n",
       "      <td>?  Put flour, salt, sugar and lemon rind into ...</td>\n",
       "      <td>Energy 1,590 kJ/ 379 kcal | Fat 16.1 g | Carbo...</td>\n",
       "      <td>379.0</td>\n",
       "      <td>16.1</td>\n",
       "      <td>49.9</td>\n",
       "      <td>7.6</td>\n",
       "      <td>2.2</td>\n",
       "      <td>90</td>\n",
       "      <td>3.3</td>\n",
       "      <td>0.66</td>\n",
       "      <td>0.4</td>\n",
       "    </tr>\n",
       "    <tr>\n",
       "      <th>3</th>\n",
       "      <td>Basic Mandazi \\n(East African Doughnuts, Basic)</td>\n",
       "      <td>15125</td>\n",
       "      <td>30</td>\n",
       "      <td>You will find this recipe in any home across K...</td>\n",
       "      <td>all-purpose wheat flour\\nbaking powder\\nsugar\\...</td>\n",
       "      <td>?  Put the wheat flour into a bowl, add baking...</td>\n",
       "      <td>Energy 1,430kJ/ 340 kcal | Fat 12.9 g | Carboh...</td>\n",
       "      <td>340.0</td>\n",
       "      <td>12.9</td>\n",
       "      <td>48.7</td>\n",
       "      <td>6.4</td>\n",
       "      <td>2.1</td>\n",
       "      <td>48</td>\n",
       "      <td>3.5</td>\n",
       "      <td>0.52</td>\n",
       "      <td>0.4</td>\n",
       "    </tr>\n",
       "    <tr>\n",
       "      <th>4</th>\n",
       "      <td>Meat Samosa\\n(Sambusa ya Nyama)</td>\n",
       "      <td>15025</td>\n",
       "      <td>32</td>\n",
       "      <td>Nothing more delicious like the Kenyan meaty s...</td>\n",
       "      <td>minced beef\\ncoriander, fresh\\nleek\\ngarlic\\nc...</td>\n",
       "      <td>?  Put the meat in a pan over a fire. Stir con...</td>\n",
       "      <td>Energy 1,854 kJ/ 443 kcal | Fat 22.2 g | Carbo...</td>\n",
       "      <td>443.0</td>\n",
       "      <td>22.2</td>\n",
       "      <td>40.5</td>\n",
       "      <td>18.8</td>\n",
       "      <td>3.1</td>\n",
       "      <td>66</td>\n",
       "      <td>11.5</td>\n",
       "      <td>2.99</td>\n",
       "      <td>0.4</td>\n",
       "    </tr>\n",
       "  </tbody>\n",
       "</table>\n",
       "</div>"
      ],
      "text/plain": [
       "                                               title  index  page  \\\n",
       "0                           Kaimati(Fried Dumplings)  15003    24   \n",
       "1                        Mahamri\\n(Swahili Doughnut)  15004    26   \n",
       "2  Enriched Mandazi \\n(East African Doughnuts, En...  15124    28   \n",
       "3    Basic Mandazi \\n(East African Doughnuts, Basic)  15125    30   \n",
       "4                    Meat Samosa\\n(Sambusa ya Nyama)  15025    32   \n",
       "\n",
       "                                               about  \\\n",
       "0  Kaimatis get their unique flavour from the sty...   \n",
       "1  This is a typical traditional recipe among the...   \n",
       "2  A popular snack among urban dwellers across th...   \n",
       "3  You will find this recipe in any home across K...   \n",
       "4  Nothing more delicious like the Kenyan meaty s...   \n",
       "\n",
       "                                         ingridients  \\\n",
       "0   wheat flour, refined\\nwater, vanilla essence,...   \n",
       "1  wheat flour,\\ncoconut milk\\nwhite sugar\\ndry y...   \n",
       "2  self-raising wheat flour\\neggs\\nmargarine\\nRin...   \n",
       "3  all-purpose wheat flour\\nbaking powder\\nsugar\\...   \n",
       "4  minced beef\\ncoriander, fresh\\nleek\\ngarlic\\nc...   \n",
       "\n",
       "                                         preparation  \\\n",
       "0   Put yeast in a small container.\\n Add 50ml of...   \n",
       "1    Break the coconut shell, drain the water and...   \n",
       "2  ?  Put flour, salt, sugar and lemon rind into ...   \n",
       "3  ?  Put the wheat flour into a bowl, add baking...   \n",
       "4  ?  Put the meat in a pan over a fire. Stir con...   \n",
       "\n",
       "                        nutrition per 100g of recipe  energy(kcal)  fat(g)  \\\n",
       "0  Energy 1,795 kJ/ 429 kcal | Fat 21.8 g | Carbo...         429.0    21.8   \n",
       "1  Energy 1,728 kJ/ 413 kcal | Fat 22.1 g | Carbo...         413.0    22.1   \n",
       "2  Energy 1,590 kJ/ 379 kcal | Fat 16.1 g | Carbo...         379.0    16.1   \n",
       "3  Energy 1,430kJ/ 340 kcal | Fat 12.9 g | Carboh...         340.0    12.9   \n",
       "4  Energy 1,854 kJ/ 443 kcal | Fat 22.2 g | Carbo...         443.0    22.2   \n",
       "\n",
       "   carbohydrates(g)  proteins(g)  fibre(g) vitamin A(mcg)  iron(mg)  zinc(mg)  \\\n",
       "0              52.8          4.6       1.6             30       2.1      0.45   \n",
       "1              46.6          6.0       2.1             41       2.8      0.56   \n",
       "2              49.9          7.6       2.2             90       3.3      0.66   \n",
       "3              48.7          6.4       2.1             48       3.5      0.52   \n",
       "4              40.5         18.8       3.1             66      11.5      2.99   \n",
       "\n",
       "   F_factor_est  \n",
       "0           0.4  \n",
       "1           0.4  \n",
       "2           0.4  \n",
       "3           0.4  \n",
       "4           0.4  "
      ]
     },
     "metadata": {},
     "output_type": "display_data"
    },
    {
     "name": "stdout",
     "output_type": "stream",
     "text": [
      "(142, 16)\n"
     ]
    }
   ],
   "source": [
    "#explore the recipeslmp.csv file\n",
    "df2 = pd.read_csv(\"RecipesImp.csv\")\n",
    "display(df2.head())\n",
    "\n",
    "#display the shape\n",
    "print(df2.shape)"
   ]
  },
  {
   "cell_type": "markdown",
   "metadata": {},
   "source": [
    "- Since we want only a few columns to recommend the possible recipes, we need to drop some columns."
   ]
  },
  {
   "cell_type": "code",
   "execution_count": 112,
   "metadata": {},
   "outputs": [
    {
     "data": {
      "text/plain": [
       "Index(['title', 'index', 'page', 'about', 'ingridients', 'preparation',\n",
       "       'nutrition per 100g of recipe', 'energy(kcal)', 'fat(g)',\n",
       "       'carbohydrates(g)', 'proteins(g)', 'fibre(g)', 'vitamin A(mcg)',\n",
       "       'iron(mg)', 'zinc(mg)', 'F_factor_est'],\n",
       "      dtype='object')"
      ]
     },
     "execution_count": 112,
     "metadata": {},
     "output_type": "execute_result"
    }
   ],
   "source": [
    "df2.columns\n"
   ]
  },
  {
   "cell_type": "code",
   "execution_count": 113,
   "metadata": {},
   "outputs": [
    {
     "data": {
      "text/html": [
       "<div>\n",
       "<style scoped>\n",
       "    .dataframe tbody tr th:only-of-type {\n",
       "        vertical-align: middle;\n",
       "    }\n",
       "\n",
       "    .dataframe tbody tr th {\n",
       "        vertical-align: top;\n",
       "    }\n",
       "\n",
       "    .dataframe thead th {\n",
       "        text-align: right;\n",
       "    }\n",
       "</style>\n",
       "<table border=\"1\" class=\"dataframe\">\n",
       "  <thead>\n",
       "    <tr style=\"text-align: right;\">\n",
       "      <th></th>\n",
       "      <th>title</th>\n",
       "      <th>ingridients</th>\n",
       "      <th>preparation</th>\n",
       "    </tr>\n",
       "  </thead>\n",
       "  <tbody>\n",
       "    <tr>\n",
       "      <th>0</th>\n",
       "      <td>Kaimati(Fried Dumplings)</td>\n",
       "      <td>wheat flour, refined\\nwater, vanilla essence,...</td>\n",
       "      <td>Put yeast in a small container.\\n Add 50ml of...</td>\n",
       "    </tr>\n",
       "    <tr>\n",
       "      <th>1</th>\n",
       "      <td>Mahamri\\n(Swahili Doughnut)</td>\n",
       "      <td>wheat flour,\\ncoconut milk\\nwhite sugar\\ndry y...</td>\n",
       "      <td>Break the coconut shell, drain the water and...</td>\n",
       "    </tr>\n",
       "    <tr>\n",
       "      <th>2</th>\n",
       "      <td>Enriched Mandazi \\n(East African Doughnuts, En...</td>\n",
       "      <td>self-raising wheat flour\\neggs\\nmargarine\\nRin...</td>\n",
       "      <td>?  Put flour, salt, sugar and lemon rind into ...</td>\n",
       "    </tr>\n",
       "    <tr>\n",
       "      <th>3</th>\n",
       "      <td>Basic Mandazi \\n(East African Doughnuts, Basic)</td>\n",
       "      <td>all-purpose wheat flour\\nbaking powder\\nsugar\\...</td>\n",
       "      <td>?  Put the wheat flour into a bowl, add baking...</td>\n",
       "    </tr>\n",
       "    <tr>\n",
       "      <th>4</th>\n",
       "      <td>Meat Samosa\\n(Sambusa ya Nyama)</td>\n",
       "      <td>minced beef\\ncoriander, fresh\\nleek\\ngarlic\\nc...</td>\n",
       "      <td>?  Put the meat in a pan over a fire. Stir con...</td>\n",
       "    </tr>\n",
       "  </tbody>\n",
       "</table>\n",
       "</div>"
      ],
      "text/plain": [
       "                                               title  \\\n",
       "0                           Kaimati(Fried Dumplings)   \n",
       "1                        Mahamri\\n(Swahili Doughnut)   \n",
       "2  Enriched Mandazi \\n(East African Doughnuts, En...   \n",
       "3    Basic Mandazi \\n(East African Doughnuts, Basic)   \n",
       "4                    Meat Samosa\\n(Sambusa ya Nyama)   \n",
       "\n",
       "                                         ingridients  \\\n",
       "0   wheat flour, refined\\nwater, vanilla essence,...   \n",
       "1  wheat flour,\\ncoconut milk\\nwhite sugar\\ndry y...   \n",
       "2  self-raising wheat flour\\neggs\\nmargarine\\nRin...   \n",
       "3  all-purpose wheat flour\\nbaking powder\\nsugar\\...   \n",
       "4  minced beef\\ncoriander, fresh\\nleek\\ngarlic\\nc...   \n",
       "\n",
       "                                         preparation  \n",
       "0   Put yeast in a small container.\\n Add 50ml of...  \n",
       "1    Break the coconut shell, drain the water and...  \n",
       "2  ?  Put flour, salt, sugar and lemon rind into ...  \n",
       "3  ?  Put the wheat flour into a bowl, add baking...  \n",
       "4  ?  Put the meat in a pan over a fire. Stir con...  "
      ]
     },
     "execution_count": 113,
     "metadata": {},
     "output_type": "execute_result"
    }
   ],
   "source": [
    "columns_to_keep = ['title','ingridients','preparation']\n",
    "\n",
    "df2 = df2[columns_to_keep]\n",
    "df2.head()"
   ]
  },
  {
   "cell_type": "code",
   "execution_count": 114,
   "metadata": {},
   "outputs": [
    {
     "data": {
      "text/html": [
       "<div>\n",
       "<style scoped>\n",
       "    .dataframe tbody tr th:only-of-type {\n",
       "        vertical-align: middle;\n",
       "    }\n",
       "\n",
       "    .dataframe tbody tr th {\n",
       "        vertical-align: top;\n",
       "    }\n",
       "\n",
       "    .dataframe thead th {\n",
       "        text-align: right;\n",
       "    }\n",
       "</style>\n",
       "<table border=\"1\" class=\"dataframe\">\n",
       "  <thead>\n",
       "    <tr style=\"text-align: right;\">\n",
       "      <th></th>\n",
       "      <th>Title</th>\n",
       "      <th>Ingredients</th>\n",
       "      <th>Instructions</th>\n",
       "    </tr>\n",
       "  </thead>\n",
       "  <tbody>\n",
       "    <tr>\n",
       "      <th>0</th>\n",
       "      <td>Kaimati(Fried Dumplings)</td>\n",
       "      <td>[ wheat flour,  refined, water,  vanilla essen...</td>\n",
       "      <td>Put yeast in a small container.\\n Add 50ml of...</td>\n",
       "    </tr>\n",
       "    <tr>\n",
       "      <th>1</th>\n",
       "      <td>Mahamri\\n(Swahili Doughnut)</td>\n",
       "      <td>[wheat flour, , coconut milk, white sugar, dry...</td>\n",
       "      <td>Break the coconut shell, drain the water and...</td>\n",
       "    </tr>\n",
       "    <tr>\n",
       "      <th>2</th>\n",
       "      <td>Enriched Mandazi \\n(East African Doughnuts, En...</td>\n",
       "      <td>[self-raising wheat flour, eggs, margarine, Ri...</td>\n",
       "      <td>?  Put flour, salt, sugar and lemon rind into ...</td>\n",
       "    </tr>\n",
       "    <tr>\n",
       "      <th>3</th>\n",
       "      <td>Basic Mandazi \\n(East African Doughnuts, Basic)</td>\n",
       "      <td>[all-purpose wheat flour, baking powder, sugar...</td>\n",
       "      <td>?  Put the wheat flour into a bowl, add baking...</td>\n",
       "    </tr>\n",
       "    <tr>\n",
       "      <th>4</th>\n",
       "      <td>Meat Samosa\\n(Sambusa ya Nyama)</td>\n",
       "      <td>[minced beef, coriander,  fresh, leek, garlic,...</td>\n",
       "      <td>?  Put the meat in a pan over a fire. Stir con...</td>\n",
       "    </tr>\n",
       "    <tr>\n",
       "      <th>5</th>\n",
       "      <td>Vegetable Samosa\\n(Sambusa ya Mboga)</td>\n",
       "      <td>[cabbage, garlic, onions, carrots, ginger, gar...</td>\n",
       "      <td>Preparation 1 hour | Cooking 1 hour 30 minutes...</td>\n",
       "    </tr>\n",
       "    <tr>\n",
       "      <th>6</th>\n",
       "      <td>Pancakes\\n(Chapati za Maji)</td>\n",
       "      <td>[wheat flour, eggs, cow milk, sugar, water, co...</td>\n",
       "      <td>Preparation 20 minutes | Cooking 30 minutes |\\...</td>\n",
       "    </tr>\n",
       "    <tr>\n",
       "      <th>7</th>\n",
       "      <td>Drop Scones</td>\n",
       "      <td>[wheat flour, eggs, cow milk, sugar,  white, m...</td>\n",
       "      <td>Preparation 20 minutes | Cooking 30 minutes |\\...</td>\n",
       "    </tr>\n",
       "    <tr>\n",
       "      <th>8</th>\n",
       "      <td>Qita\\n(Maize &amp; Wheat Flour Pancake)</td>\n",
       "      <td>[wheat flour, maize flour, yeast, water, salt,...</td>\n",
       "      <td>Preparation 2 hours 30 minutes | Cooking 40 mi...</td>\n",
       "    </tr>\n",
       "    <tr>\n",
       "      <th>9</th>\n",
       "      <td>Mkate Kuta(Ngumu)</td>\n",
       "      <td>[wheat flour, wheat flour, sugar, cooking oil,...</td>\n",
       "      <td>Preparation 20 minutes | Cooking 1 hour | Serv...</td>\n",
       "    </tr>\n",
       "  </tbody>\n",
       "</table>\n",
       "</div>"
      ],
      "text/plain": [
       "                                               Title  \\\n",
       "0                           Kaimati(Fried Dumplings)   \n",
       "1                        Mahamri\\n(Swahili Doughnut)   \n",
       "2  Enriched Mandazi \\n(East African Doughnuts, En...   \n",
       "3    Basic Mandazi \\n(East African Doughnuts, Basic)   \n",
       "4                    Meat Samosa\\n(Sambusa ya Nyama)   \n",
       "5               Vegetable Samosa\\n(Sambusa ya Mboga)   \n",
       "6                        Pancakes\\n(Chapati za Maji)   \n",
       "7                                        Drop Scones   \n",
       "8                Qita\\n(Maize & Wheat Flour Pancake)   \n",
       "9                                  Mkate Kuta(Ngumu)   \n",
       "\n",
       "                                         Ingredients  \\\n",
       "0  [ wheat flour,  refined, water,  vanilla essen...   \n",
       "1  [wheat flour, , coconut milk, white sugar, dry...   \n",
       "2  [self-raising wheat flour, eggs, margarine, Ri...   \n",
       "3  [all-purpose wheat flour, baking powder, sugar...   \n",
       "4  [minced beef, coriander,  fresh, leek, garlic,...   \n",
       "5  [cabbage, garlic, onions, carrots, ginger, gar...   \n",
       "6  [wheat flour, eggs, cow milk, sugar, water, co...   \n",
       "7  [wheat flour, eggs, cow milk, sugar,  white, m...   \n",
       "8  [wheat flour, maize flour, yeast, water, salt,...   \n",
       "9  [wheat flour, wheat flour, sugar, cooking oil,...   \n",
       "\n",
       "                                        Instructions  \n",
       "0   Put yeast in a small container.\\n Add 50ml of...  \n",
       "1    Break the coconut shell, drain the water and...  \n",
       "2  ?  Put flour, salt, sugar and lemon rind into ...  \n",
       "3  ?  Put the wheat flour into a bowl, add baking...  \n",
       "4  ?  Put the meat in a pan over a fire. Stir con...  \n",
       "5  Preparation 1 hour | Cooking 1 hour 30 minutes...  \n",
       "6  Preparation 20 minutes | Cooking 30 minutes |\\...  \n",
       "7  Preparation 20 minutes | Cooking 30 minutes |\\...  \n",
       "8  Preparation 2 hours 30 minutes | Cooking 40 mi...  \n",
       "9  Preparation 20 minutes | Cooking 1 hour | Serv...  "
      ]
     },
     "execution_count": 114,
     "metadata": {},
     "output_type": "execute_result"
    }
   ],
   "source": [
    "#clean the column names\n",
    "#change the ingridient column name to ingredients\n",
    "df2.rename(columns={'ingridients':'ingredients','preparation':'instructions'}, inplace=True)\n",
    "\n",
    "#capitalize the column names\n",
    "df2.columns = df2.columns.str.capitalize()\n",
    "\n",
    "#store the ingredients in each row as a list\n",
    "df2['Ingredients'] = df2['Ingredients'].apply(lambda x: x.split(','))\n",
    "#replace the \\n with a space\n",
    "df2['Ingredients'] = df2['Ingredients'].apply(lambda x: [i.replace('\\n',', ') for i in x])\n",
    "df2.head(10)\n",
    "\n"
   ]
  },
  {
   "cell_type": "markdown",
   "metadata": {},
   "source": [
    "- Check for duplicates"
   ]
  },
  {
   "cell_type": "code",
   "execution_count": 115,
   "metadata": {},
   "outputs": [
    {
     "name": "stdout",
     "output_type": "stream",
     "text": [
      "number of duplicates: 0\n"
     ]
    }
   ],
   "source": [
    "# convert the list of ingredients to a string to match the format of the first dataframe\n",
    "df2['Ingredients'] = df2['Ingredients'].apply(lambda x: ', '.join([ingredient.strip() for ingredient in x]))\n",
    "\n",
    "print(f'number of duplicates: {df2.duplicated().sum()}')"
   ]
  },
  {
   "cell_type": "code",
   "execution_count": 116,
   "metadata": {},
   "outputs": [
    {
     "data": {
      "text/html": [
       "<div>\n",
       "<style scoped>\n",
       "    .dataframe tbody tr th:only-of-type {\n",
       "        vertical-align: middle;\n",
       "    }\n",
       "\n",
       "    .dataframe tbody tr th {\n",
       "        vertical-align: top;\n",
       "    }\n",
       "\n",
       "    .dataframe thead th {\n",
       "        text-align: right;\n",
       "    }\n",
       "</style>\n",
       "<table border=\"1\" class=\"dataframe\">\n",
       "  <thead>\n",
       "    <tr style=\"text-align: right;\">\n",
       "      <th></th>\n",
       "      <th>Title</th>\n",
       "      <th>Ingredients</th>\n",
       "      <th>Instructions</th>\n",
       "    </tr>\n",
       "  </thead>\n",
       "  <tbody>\n",
       "    <tr>\n",
       "      <th>0</th>\n",
       "      <td>Kaimati(Fried Dumplings)</td>\n",
       "      <td>wheat flour, refined, water, vanilla essence, ...</td>\n",
       "      <td>Put yeast in a small container.\\n Add 50ml of...</td>\n",
       "    </tr>\n",
       "    <tr>\n",
       "      <th>1</th>\n",
       "      <td>Mahamri\\n(Swahili Doughnut)</td>\n",
       "      <td>wheat flour, , coconut milk, white sugar, dry ...</td>\n",
       "      <td>Break the coconut shell, drain the water and...</td>\n",
       "    </tr>\n",
       "    <tr>\n",
       "      <th>2</th>\n",
       "      <td>Enriched Mandazi \\n(East African Doughnuts, En...</td>\n",
       "      <td>self-raising wheat flour, eggs, margarine, Rin...</td>\n",
       "      <td>?  Put flour, salt, sugar and lemon rind into ...</td>\n",
       "    </tr>\n",
       "    <tr>\n",
       "      <th>3</th>\n",
       "      <td>Basic Mandazi \\n(East African Doughnuts, Basic)</td>\n",
       "      <td>all-purpose wheat flour, baking powder, sugar,...</td>\n",
       "      <td>?  Put the wheat flour into a bowl, add baking...</td>\n",
       "    </tr>\n",
       "    <tr>\n",
       "      <th>4</th>\n",
       "      <td>Meat Samosa\\n(Sambusa ya Nyama)</td>\n",
       "      <td>minced beef, coriander, fresh, leek, garlic, c...</td>\n",
       "      <td>?  Put the meat in a pan over a fire. Stir con...</td>\n",
       "    </tr>\n",
       "  </tbody>\n",
       "</table>\n",
       "</div>"
      ],
      "text/plain": [
       "                                               Title  \\\n",
       "0                           Kaimati(Fried Dumplings)   \n",
       "1                        Mahamri\\n(Swahili Doughnut)   \n",
       "2  Enriched Mandazi \\n(East African Doughnuts, En...   \n",
       "3    Basic Mandazi \\n(East African Doughnuts, Basic)   \n",
       "4                    Meat Samosa\\n(Sambusa ya Nyama)   \n",
       "\n",
       "                                         Ingredients  \\\n",
       "0  wheat flour, refined, water, vanilla essence, ...   \n",
       "1  wheat flour, , coconut milk, white sugar, dry ...   \n",
       "2  self-raising wheat flour, eggs, margarine, Rin...   \n",
       "3  all-purpose wheat flour, baking powder, sugar,...   \n",
       "4  minced beef, coriander, fresh, leek, garlic, c...   \n",
       "\n",
       "                                        Instructions  \n",
       "0   Put yeast in a small container.\\n Add 50ml of...  \n",
       "1    Break the coconut shell, drain the water and...  \n",
       "2  ?  Put flour, salt, sugar and lemon rind into ...  \n",
       "3  ?  Put the wheat flour into a bowl, add baking...  \n",
       "4  ?  Put the meat in a pan over a fire. Stir con...  "
      ]
     },
     "execution_count": 116,
     "metadata": {},
     "output_type": "execute_result"
    }
   ],
   "source": [
    "df2.head()"
   ]
  },
  {
   "cell_type": "markdown",
   "metadata": {},
   "source": [
    "- Chek for missing values"
   ]
  },
  {
   "cell_type": "code",
   "execution_count": 117,
   "metadata": {},
   "outputs": [
    {
     "name": "stdout",
     "output_type": "stream",
     "text": [
      "number of missing values: 0\n"
     ]
    }
   ],
   "source": [
    "print(f'number of missing values: {df2.isnull().sum().sum()}')"
   ]
  },
  {
   "cell_type": "markdown",
   "metadata": {},
   "source": [
    "- Since both dataframes have no missing values and duplicates we can merge them now"
   ]
  },
  {
   "cell_type": "code",
   "execution_count": 118,
   "metadata": {},
   "outputs": [
    {
     "name": "stdout",
     "output_type": "stream",
     "text": [
      "Dataframe 1 has a shape of: (13493, 3)\n",
      "Dataframe 2 has a shape of: (142, 3)\n",
      "Combined dataframe has a shape of: (13635, 3)\n"
     ]
    }
   ],
   "source": [
    "#merge the two dataframes\n",
    "combined_df = pd.concat([df,df2])\n",
    "#check the shapes of the three dfs\n",
    "print(f'Dataframe 1 has a shape of: {df.shape}')\n",
    "print(f'Dataframe 2 has a shape of: {df2.shape}')\n",
    "print(f'Combined dataframe has a shape of: {combined_df.shape}')\n",
    "\n",
    "#reset the index\n",
    "combined_df = combined_df.reset_index(drop=True)\n",
    "\n"
   ]
  },
  {
   "cell_type": "markdown",
   "metadata": {},
   "source": [
    "### Clean the Combined DataFrame"
   ]
  },
  {
   "cell_type": "code",
   "execution_count": 119,
   "metadata": {},
   "outputs": [
    {
     "data": {
      "text/html": [
       "<div>\n",
       "<style scoped>\n",
       "    .dataframe tbody tr th:only-of-type {\n",
       "        vertical-align: middle;\n",
       "    }\n",
       "\n",
       "    .dataframe tbody tr th {\n",
       "        vertical-align: top;\n",
       "    }\n",
       "\n",
       "    .dataframe thead th {\n",
       "        text-align: right;\n",
       "    }\n",
       "</style>\n",
       "<table border=\"1\" class=\"dataframe\">\n",
       "  <thead>\n",
       "    <tr style=\"text-align: right;\">\n",
       "      <th></th>\n",
       "      <th>Title</th>\n",
       "      <th>Ingredients</th>\n",
       "      <th>Instructions</th>\n",
       "    </tr>\n",
       "  </thead>\n",
       "  <tbody>\n",
       "    <tr>\n",
       "      <th>0</th>\n",
       "      <td>Miso-Butter Roast Chicken With Acorn Squash Pa...</td>\n",
       "      <td>['1 (3½–4-lb.) whole chicken', '2¾ tsp. kosher...</td>\n",
       "      <td>Pat chicken dry with paper towels, season all ...</td>\n",
       "    </tr>\n",
       "    <tr>\n",
       "      <th>1</th>\n",
       "      <td>Crispy Salt and Pepper Potatoes</td>\n",
       "      <td>['2 large egg whites', '1 pound new potatoes (...</td>\n",
       "      <td>Preheat oven to 400°F and line a rimmed baking...</td>\n",
       "    </tr>\n",
       "    <tr>\n",
       "      <th>2</th>\n",
       "      <td>Thanksgiving Mac and Cheese</td>\n",
       "      <td>['1 cup evaporated milk', '1 cup whole milk', ...</td>\n",
       "      <td>Place a rack in middle of oven; preheat to 400...</td>\n",
       "    </tr>\n",
       "    <tr>\n",
       "      <th>3</th>\n",
       "      <td>Italian Sausage and Bread Stuffing</td>\n",
       "      <td>['1 (¾- to 1-pound) round Italian loaf, cut in...</td>\n",
       "      <td>Preheat oven to 350°F with rack in middle. Gen...</td>\n",
       "    </tr>\n",
       "    <tr>\n",
       "      <th>4</th>\n",
       "      <td>Newton's Law</td>\n",
       "      <td>['1 teaspoon dark brown sugar', '1 teaspoon ho...</td>\n",
       "      <td>Stir together brown sugar and hot water in a c...</td>\n",
       "    </tr>\n",
       "  </tbody>\n",
       "</table>\n",
       "</div>"
      ],
      "text/plain": [
       "                                               Title  \\\n",
       "0  Miso-Butter Roast Chicken With Acorn Squash Pa...   \n",
       "1                    Crispy Salt and Pepper Potatoes   \n",
       "2                        Thanksgiving Mac and Cheese   \n",
       "3                 Italian Sausage and Bread Stuffing   \n",
       "4                                       Newton's Law   \n",
       "\n",
       "                                         Ingredients  \\\n",
       "0  ['1 (3½–4-lb.) whole chicken', '2¾ tsp. kosher...   \n",
       "1  ['2 large egg whites', '1 pound new potatoes (...   \n",
       "2  ['1 cup evaporated milk', '1 cup whole milk', ...   \n",
       "3  ['1 (¾- to 1-pound) round Italian loaf, cut in...   \n",
       "4  ['1 teaspoon dark brown sugar', '1 teaspoon ho...   \n",
       "\n",
       "                                        Instructions  \n",
       "0  Pat chicken dry with paper towels, season all ...  \n",
       "1  Preheat oven to 400°F and line a rimmed baking...  \n",
       "2  Place a rack in middle of oven; preheat to 400...  \n",
       "3  Preheat oven to 350°F with rack in middle. Gen...  \n",
       "4  Stir together brown sugar and hot water in a c...  "
      ]
     },
     "execution_count": 119,
     "metadata": {},
     "output_type": "execute_result"
    }
   ],
   "source": [
    "combined_df.head()"
   ]
  },
  {
   "cell_type": "code",
   "execution_count": 120,
   "metadata": {},
   "outputs": [
    {
     "data": {
      "text/html": [
       "<div>\n",
       "<style scoped>\n",
       "    .dataframe tbody tr th:only-of-type {\n",
       "        vertical-align: middle;\n",
       "    }\n",
       "\n",
       "    .dataframe tbody tr th {\n",
       "        vertical-align: top;\n",
       "    }\n",
       "\n",
       "    .dataframe thead th {\n",
       "        text-align: right;\n",
       "    }\n",
       "</style>\n",
       "<table border=\"1\" class=\"dataframe\">\n",
       "  <thead>\n",
       "    <tr style=\"text-align: right;\">\n",
       "      <th></th>\n",
       "      <th>Title</th>\n",
       "      <th>Ingredients</th>\n",
       "      <th>Instructions</th>\n",
       "    </tr>\n",
       "  </thead>\n",
       "  <tbody>\n",
       "    <tr>\n",
       "      <th>13625</th>\n",
       "      <td>Vinolo\\n(Banana and Maize Flour Ugali)</td>\n",
       "      <td>banana green, maize flour, water</td>\n",
       "      <td>Preparation 5 minutes | Cooking 40 minutes | \\...</td>\n",
       "    </tr>\n",
       "    <tr>\n",
       "      <th>13626</th>\n",
       "      <td>Finger Millet \\nFlour Ugali</td>\n",
       "      <td>finger millet, water</td>\n",
       "      <td>Preparation time 5 minutes | Cooking time 15 m...</td>\n",
       "    </tr>\n",
       "    <tr>\n",
       "      <th>13627</th>\n",
       "      <td>White Chapati</td>\n",
       "      <td>wheat flour, water, sugar, salt, cooking oil</td>\n",
       "      <td>Preparation 30 minutes | Cooking 30 minutes | ...</td>\n",
       "    </tr>\n",
       "    <tr>\n",
       "      <th>13628</th>\n",
       "      <td>Brown Chapati</td>\n",
       "      <td>wheat flour, water, sugar, , salt, cooking oil</td>\n",
       "      <td>Preparation 30 minutes | Cooking 30 minutes | ...</td>\n",
       "    </tr>\n",
       "    <tr>\n",
       "      <th>13629</th>\n",
       "      <td>Roti \\n(Indian Chapati)</td>\n",
       "      <td>wheat flour, salt, water, cooking oil, cow ghee</td>\n",
       "      <td>Preparation 3 hours | Cooking 21 minutes | Ser...</td>\n",
       "    </tr>\n",
       "    <tr>\n",
       "      <th>13630</th>\n",
       "      <td>Bhature\\n (Fried Indian Bread)</td>\n",
       "      <td>wheat flour, salt, sugar, ghee, cooking oil, f...</td>\n",
       "      <td>Preparation 1 hour 15 minutes | Cooking 30 min...</td>\n",
       "    </tr>\n",
       "    <tr>\n",
       "      <th>13631</th>\n",
       "      <td>Vimumunya vya \\nSukari\\n (Sweetened Pumpkin &amp; ...</td>\n",
       "      <td>pumpkin, cardamon, sugar, coconut milk, water</td>\n",
       "      <td>Preparation 5 minutes | Cooking 45 minutes | \\...</td>\n",
       "    </tr>\n",
       "    <tr>\n",
       "      <th>13632</th>\n",
       "      <td>Siro\\n (Semolina &amp; Nuts)</td>\n",
       "      <td>semolina flour, cow ghee, cow milk, sugar, pis...</td>\n",
       "      <td>Preparation 15 minutes | Cooking 30 minutes | ...</td>\n",
       "    </tr>\n",
       "    <tr>\n",
       "      <th>13633</th>\n",
       "      <td>Chaas\\n(Diluted Yoghurt)</td>\n",
       "      <td>natural yoghurt, water, salt,</td>\n",
       "      <td>Preparation 5 minutes | Serves 2\\n?Add natural...</td>\n",
       "    </tr>\n",
       "    <tr>\n",
       "      <th>13634</th>\n",
       "      <td>Groundnut Sauce</td>\n",
       "      <td>groundnut, salt, sour milk, water</td>\n",
       "      <td>Preparation 5 minutes | Cooking 1 hour 40 minu...</td>\n",
       "    </tr>\n",
       "  </tbody>\n",
       "</table>\n",
       "</div>"
      ],
      "text/plain": [
       "                                                   Title  \\\n",
       "13625             Vinolo\\n(Banana and Maize Flour Ugali)   \n",
       "13626                        Finger Millet \\nFlour Ugali   \n",
       "13627                                      White Chapati   \n",
       "13628                                      Brown Chapati   \n",
       "13629                            Roti \\n(Indian Chapati)   \n",
       "13630                     Bhature\\n (Fried Indian Bread)   \n",
       "13631  Vimumunya vya \\nSukari\\n (Sweetened Pumpkin & ...   \n",
       "13632                           Siro\\n (Semolina & Nuts)   \n",
       "13633                           Chaas\\n(Diluted Yoghurt)   \n",
       "13634                                    Groundnut Sauce   \n",
       "\n",
       "                                             Ingredients  \\\n",
       "13625                   banana green, maize flour, water   \n",
       "13626                               finger millet, water   \n",
       "13627       wheat flour, water, sugar, salt, cooking oil   \n",
       "13628     wheat flour, water, sugar, , salt, cooking oil   \n",
       "13629    wheat flour, salt, water, cooking oil, cow ghee   \n",
       "13630  wheat flour, salt, sugar, ghee, cooking oil, f...   \n",
       "13631      pumpkin, cardamon, sugar, coconut milk, water   \n",
       "13632  semolina flour, cow ghee, cow milk, sugar, pis...   \n",
       "13633                      natural yoghurt, water, salt,   \n",
       "13634                  groundnut, salt, sour milk, water   \n",
       "\n",
       "                                            Instructions  \n",
       "13625  Preparation 5 minutes | Cooking 40 minutes | \\...  \n",
       "13626  Preparation time 5 minutes | Cooking time 15 m...  \n",
       "13627  Preparation 30 minutes | Cooking 30 minutes | ...  \n",
       "13628  Preparation 30 minutes | Cooking 30 minutes | ...  \n",
       "13629  Preparation 3 hours | Cooking 21 minutes | Ser...  \n",
       "13630  Preparation 1 hour 15 minutes | Cooking 30 min...  \n",
       "13631  Preparation 5 minutes | Cooking 45 minutes | \\...  \n",
       "13632  Preparation 15 minutes | Cooking 30 minutes | ...  \n",
       "13633  Preparation 5 minutes | Serves 2\\n?Add natural...  \n",
       "13634  Preparation 5 minutes | Cooking 1 hour 40 minu...  "
      ]
     },
     "execution_count": 120,
     "metadata": {},
     "output_type": "execute_result"
    }
   ],
   "source": [
    "combined_df[-10:]"
   ]
  },
  {
   "cell_type": "code",
   "execution_count": 121,
   "metadata": {},
   "outputs": [
    {
     "name": "stdout",
     "output_type": "stream",
     "text": [
      "Title           0\n",
      "Ingredients     0\n",
      "Instructions    0\n",
      "dtype: int64\n"
     ]
    }
   ],
   "source": [
    "#check for missing values\n",
    "print(combined_df.isnull().sum().sort_values(ascending=False))\n"
   ]
  },
  {
   "cell_type": "code",
   "execution_count": 122,
   "metadata": {},
   "outputs": [
    {
     "data": {
      "text/html": [
       "<div>\n",
       "<style scoped>\n",
       "    .dataframe tbody tr th:only-of-type {\n",
       "        vertical-align: middle;\n",
       "    }\n",
       "\n",
       "    .dataframe tbody tr th {\n",
       "        vertical-align: top;\n",
       "    }\n",
       "\n",
       "    .dataframe thead th {\n",
       "        text-align: right;\n",
       "    }\n",
       "</style>\n",
       "<table border=\"1\" class=\"dataframe\">\n",
       "  <thead>\n",
       "    <tr style=\"text-align: right;\">\n",
       "      <th></th>\n",
       "      <th>Title</th>\n",
       "      <th>Ingredients</th>\n",
       "      <th>Instructions</th>\n",
       "    </tr>\n",
       "  </thead>\n",
       "  <tbody>\n",
       "    <tr>\n",
       "      <th>0</th>\n",
       "      <td>Miso-Butter Roast Chicken With Acorn Squash Pa...</td>\n",
       "      <td>['Freshly ground black pepper', '2 medium appl...</td>\n",
       "      <td>Pat chicken dry with paper towels, season all ...</td>\n",
       "    </tr>\n",
       "    <tr>\n",
       "      <th>1</th>\n",
       "      <td>Crispy Salt and Pepper Potatoes</td>\n",
       "      <td>['¾ teaspoon finely ground black pepper', '2 t...</td>\n",
       "      <td>Preheat oven to 400°F and line a rimmed baking...</td>\n",
       "    </tr>\n",
       "    <tr>\n",
       "      <th>2</th>\n",
       "      <td>Thanksgiving Mac and Cheese</td>\n",
       "      <td>['1 tsp. onion powder', '1 lb. elbow macaroni'...</td>\n",
       "      <td>Place a rack in middle of oven; preheat to 400...</td>\n",
       "    </tr>\n",
       "    <tr>\n",
       "      <th>3</th>\n",
       "      <td>Italian Sausage and Bread Stuffing</td>\n",
       "      <td>[lightly beaten', '2 tablespoons olive oil, cu...</td>\n",
       "      <td>Preheat oven to 350°F with rack in middle. Gen...</td>\n",
       "    </tr>\n",
       "    <tr>\n",
       "      <th>4</th>\n",
       "      <td>Newton's Law</td>\n",
       "      <td>['1 ½ oz. bourbon', ['1 teaspoon dark brown su...</td>\n",
       "      <td>Stir together brown sugar and hot water in a c...</td>\n",
       "    </tr>\n",
       "    <tr>\n",
       "      <th>...</th>\n",
       "      <td>...</td>\n",
       "      <td>...</td>\n",
       "      <td>...</td>\n",
       "    </tr>\n",
       "    <tr>\n",
       "      <th>13630</th>\n",
       "      <td>Bhature (Fried Indian Bread)</td>\n",
       "      <td>[natural yoghurt, coriander, fenugreek leaves,...</td>\n",
       "      <td>Preparation 1 hour 15 minutes , Cooking 30 min...</td>\n",
       "    </tr>\n",
       "    <tr>\n",
       "      <th>13631</th>\n",
       "      <td>Vimumunya vya Sukari (Sweetened Pumpkin &amp; Coco...</td>\n",
       "      <td>[coconut milk, pumpkin, sugar, cardamon, water]</td>\n",
       "      <td>Preparation 5 minutes , Cooking 45 minutes , S...</td>\n",
       "    </tr>\n",
       "    <tr>\n",
       "      <th>13632</th>\n",
       "      <td>Siro (Semolina &amp; Nuts)</td>\n",
       "      <td>[semolina flour, cow milk, cow ghee, pistachio...</td>\n",
       "      <td>Preparation 15 minutes , Cooking 30 minutes , ...</td>\n",
       "    </tr>\n",
       "    <tr>\n",
       "      <th>13633</th>\n",
       "      <td>Chaas(Diluted Yoghurt)</td>\n",
       "      <td>[natural yoghurt, salt, water]</td>\n",
       "      <td>Preparation 5 minutes , Serves 2.Add natural y...</td>\n",
       "    </tr>\n",
       "    <tr>\n",
       "      <th>13634</th>\n",
       "      <td>Groundnut Sauce</td>\n",
       "      <td>[salt, groundnut, sour milk, water]</td>\n",
       "      <td>Preparation 5 minutes , Cooking 1 hour 40 minu...</td>\n",
       "    </tr>\n",
       "  </tbody>\n",
       "</table>\n",
       "<p>13635 rows × 3 columns</p>\n",
       "</div>"
      ],
      "text/plain": [
       "                                                   Title  \\\n",
       "0      Miso-Butter Roast Chicken With Acorn Squash Pa...   \n",
       "1                        Crispy Salt and Pepper Potatoes   \n",
       "2                            Thanksgiving Mac and Cheese   \n",
       "3                     Italian Sausage and Bread Stuffing   \n",
       "4                                           Newton's Law   \n",
       "...                                                  ...   \n",
       "13630                       Bhature (Fried Indian Bread)   \n",
       "13631  Vimumunya vya Sukari (Sweetened Pumpkin & Coco...   \n",
       "13632                             Siro (Semolina & Nuts)   \n",
       "13633                             Chaas(Diluted Yoghurt)   \n",
       "13634                                    Groundnut Sauce   \n",
       "\n",
       "                                             Ingredients  \\\n",
       "0      ['Freshly ground black pepper', '2 medium appl...   \n",
       "1      ['¾ teaspoon finely ground black pepper', '2 t...   \n",
       "2      ['1 tsp. onion powder', '1 lb. elbow macaroni'...   \n",
       "3      [lightly beaten', '2 tablespoons olive oil, cu...   \n",
       "4      ['1 ½ oz. bourbon', ['1 teaspoon dark brown su...   \n",
       "...                                                  ...   \n",
       "13630  [natural yoghurt, coriander, fenugreek leaves,...   \n",
       "13631    [coconut milk, pumpkin, sugar, cardamon, water]   \n",
       "13632  [semolina flour, cow milk, cow ghee, pistachio...   \n",
       "13633                     [natural yoghurt, salt, water]   \n",
       "13634                [salt, groundnut, sour milk, water]   \n",
       "\n",
       "                                            Instructions  \n",
       "0      Pat chicken dry with paper towels, season all ...  \n",
       "1      Preheat oven to 400°F and line a rimmed baking...  \n",
       "2      Place a rack in middle of oven; preheat to 400...  \n",
       "3      Preheat oven to 350°F with rack in middle. Gen...  \n",
       "4      Stir together brown sugar and hot water in a c...  \n",
       "...                                                  ...  \n",
       "13630  Preparation 1 hour 15 minutes , Cooking 30 min...  \n",
       "13631  Preparation 5 minutes , Cooking 45 minutes , S...  \n",
       "13632  Preparation 15 minutes , Cooking 30 minutes , ...  \n",
       "13633  Preparation 5 minutes , Serves 2.Add natural y...  \n",
       "13634  Preparation 5 minutes , Cooking 1 hour 40 minu...  \n",
       "\n",
       "[13635 rows x 3 columns]"
      ]
     },
     "execution_count": 122,
     "metadata": {},
     "output_type": "execute_result"
    }
   ],
   "source": [
    "#write a function to clean the columns\n",
    "\"\"\"\n",
    "This function should:\n",
    "1. Clean the Title Column: Remove newlines and extra spaces\n",
    "2. Clean the Ingredients Column: Convert string ingredients to lists: If they are not already in a list format, convert them and clean any extra spaces.\n",
    "                                Ensure there are no empty strings or duplicates within each list of ingredients.\n",
    "3. Clean the Instructions Column: Similar to the Title, ensure that the instructions are clean and properly formatted.\n",
    "\"\"\"\n",
    "\n",
    "def clean_combined_df(df):\n",
    "    #title column\n",
    "    df['Title'] = df['Title'].str.replace('\\n', '').str.strip()\n",
    "    #Ingredients column\n",
    "    # Convert ingredients to a list if they are in a string format\n",
    "    df['Ingredients'] = df['Ingredients'].apply(lambda x: [ingredient.strip() for ingredient in x.split(',')])\n",
    "\n",
    "    # Remove empty ingredients\n",
    "    df['Ingredients'] = df['Ingredients'].apply(lambda x: [ingredient for ingredient in x if ingredient])\n",
    "\n",
    "    # If there are any duplicate ingredients in each list, remove them\n",
    "    df['Ingredients'] = df['Ingredients'].apply(lambda x: list(set(x)))\n",
    "\n",
    "    # Clean the Instructions column\n",
    "    df['Instructions'] = df['Instructions'].str.replace('\\n', '') \\\n",
    "                                       .str.replace('?', '.') \\\n",
    "                                       .str.replace('|', ',') \\\n",
    "                                       .str.strip()\n",
    "    return df\n",
    "\n",
    "# Use the function on your DataFrame\n",
    "combined_cleaned = clean_combined_df(combined_df)\n",
    "combined_cleaned"
   ]
  },
  {
   "cell_type": "code",
   "execution_count": 123,
   "metadata": {},
   "outputs": [
    {
     "data": {
      "text/plain": [
       "'Preparation 5 minutes , Cooking 1 hour 40 minutes , Serves 4.Place a saucepan over fire and let it preheat..Add the groundnuts, salt and 1/2 a cup of water oras desired..Cook until the water evaporates as you stir gradu\\x02ally. When ready, the nuts produce a pop sound..Once they pop, turn down the heat and contin\\x02ue stirring until the groundnuts are dry (about 13minutes)..Remove from heat and allow it to cool down..Using a blender, blend the nuts into a paste. Apestle and mortar can be used in the absence of ablender..Put the groundnut paste into a bowl, add sour milkand stir into thick paste. Water or fresh milk can beused in place of the sour milk..Once ready, put another pan on the heat, add thepeanut paste and stir..Stir until it is smooth but not too thick..Serve hot with green leafy vegetables of yourchoice, fish, sweet potatoes, green bananas, ugali,etc'"
      ]
     },
     "execution_count": 123,
     "metadata": {},
     "output_type": "execute_result"
    }
   ],
   "source": [
    "combined_cleaned['Instructions'][13634]"
   ]
  },
  {
   "cell_type": "markdown",
   "metadata": {},
   "source": [
    "## Exploratory Data Analysis"
   ]
  },
  {
   "cell_type": "markdown",
   "metadata": {},
   "source": [
    "### Data Cleaning"
   ]
  },
  {
   "cell_type": "markdown",
   "metadata": {},
   "source": [
    "## Feature Engineering"
   ]
  },
  {
   "cell_type": "code",
   "execution_count": null,
   "metadata": {},
   "outputs": [],
   "source": []
  }
 ],
 "metadata": {
  "kernelspec": {
   "display_name": "Python 3",
   "language": "python",
   "name": "python3"
  },
  "language_info": {
   "codemirror_mode": {
    "name": "ipython",
    "version": 3
   },
   "file_extension": ".py",
   "mimetype": "text/x-python",
   "name": "python",
   "nbconvert_exporter": "python",
   "pygments_lexer": "ipython3",
   "version": "3.9.19"
  }
 },
 "nbformat": 4,
 "nbformat_minor": 2
}
